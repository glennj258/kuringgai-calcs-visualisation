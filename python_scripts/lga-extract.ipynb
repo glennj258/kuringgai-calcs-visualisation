{
 "cells": [
  {
   "cell_type": "code",
   "execution_count": 5,
   "id": "bc44944e",
   "metadata": {},
   "outputs": [],
   "source": [
    "import pandas as pd\n",
    "import json\n",
    "import csv\n",
    "\n",
    "import geopandas as gpd"
   ]
  },
  {
   "cell_type": "code",
   "execution_count": 6,
   "id": "a4deb4b9",
   "metadata": {},
   "outputs": [],
   "source": [
    "lga_geojson_file = \"/Users/glennjames/Documents/GitHub/housing-showcase/public/geojsons/LGA_NSW.geojson\"\n",
    "\n",
    "gdf = gpd.read_file(lga_geojson_file)"
   ]
  },
  {
   "cell_type": "code",
   "execution_count": 13,
   "id": "84ebdb38",
   "metadata": {},
   "outputs": [],
   "source": [
    "kur_lga = gdf[gdf[\"LGA_NAME24\"] == \"Ku-ring-gai\"]"
   ]
  },
  {
   "cell_type": "code",
   "execution_count": 14,
   "id": "bd019aed",
   "metadata": {},
   "outputs": [],
   "source": [
    "kur_lga.to_file(\"/Users/glennjames/Documents/GitHub/housing-showcase/public/geojsons/Kur_LGA.geojson\", driver=\"GeoJSON\")"
   ]
  },
  {
   "cell_type": "code",
   "execution_count": null,
   "id": "c5bc9425",
   "metadata": {},
   "outputs": [],
   "source": []
  }
 ],
 "metadata": {
  "kernelspec": {
   "display_name": ".venv",
   "language": "python",
   "name": "python3"
  },
  "language_info": {
   "codemirror_mode": {
    "name": "ipython",
    "version": 3
   },
   "file_extension": ".py",
   "mimetype": "text/x-python",
   "name": "python",
   "nbconvert_exporter": "python",
   "pygments_lexer": "ipython3",
   "version": "3.9.6"
  }
 },
 "nbformat": 4,
 "nbformat_minor": 5
}
