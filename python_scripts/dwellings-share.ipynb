{
 "cells": [
  {
   "cell_type": "code",
   "execution_count": 1,
   "id": "34e5b0be",
   "metadata": {},
   "outputs": [],
   "source": [
    "import pandas as pd\n",
    "import json\n",
    "import csv"
   ]
  },
  {
   "cell_type": "code",
   "execution_count": 2,
   "id": "6f5a977b",
   "metadata": {},
   "outputs": [],
   "source": [
    "path = '/Users/glennjames/Library/Mobile Documents/com~apple~CloudDocs/University/USyd/PLAN9071/Python/Data/'"
   ]
  },
  {
   "cell_type": "code",
   "execution_count": 6,
   "id": "38957095",
   "metadata": {},
   "outputs": [],
   "source": [
    "separate_house = 92537\n",
    "medium_density = 436\t+3373 +\t2995+ \t3386\n",
    "apartments = 16438\t+1889\n",
    "total = separate_house + medium_density + apartments"
   ]
  },
  {
   "cell_type": "code",
   "execution_count": 8,
   "id": "c4be860f",
   "metadata": {},
   "outputs": [
    {
     "data": {
      "text/plain": [
       "0.7644274456027889"
      ]
     },
     "execution_count": 8,
     "metadata": {},
     "output_type": "execute_result"
    }
   ],
   "source": [
    "separate_house/total"
   ]
  },
  {
   "cell_type": "code",
   "execution_count": 9,
   "id": "7307c8e0",
   "metadata": {},
   "outputs": [
    {
     "data": {
      "text/plain": [
       "0.08417730929998182"
      ]
     },
     "execution_count": 9,
     "metadata": {},
     "output_type": "execute_result"
    }
   ],
   "source": [
    "medium_density/total"
   ]
  },
  {
   "cell_type": "code",
   "execution_count": 10,
   "id": "2169b5d5",
   "metadata": {},
   "outputs": [
    {
     "data": {
      "text/plain": [
       "0.15139524509722935"
      ]
     },
     "execution_count": 10,
     "metadata": {},
     "output_type": "execute_result"
    }
   ],
   "source": [
    "apartments/total"
   ]
  },
  {
   "cell_type": "code",
   "execution_count": 11,
   "id": "df6ac3a1",
   "metadata": {},
   "outputs": [
    {
     "data": {
      "text/plain": [
       "121054.0"
      ]
     },
     "execution_count": 11,
     "metadata": {},
     "output_type": "execute_result"
    }
   ],
   "source": [
    " 92537/0.7644274456027889"
   ]
  },
  {
   "cell_type": "code",
   "execution_count": null,
   "id": "edaf75af",
   "metadata": {},
   "outputs": [],
   "source": []
  }
 ],
 "metadata": {
  "kernelspec": {
   "display_name": ".venv",
   "language": "python",
   "name": "python3"
  },
  "language_info": {
   "codemirror_mode": {
    "name": "ipython",
    "version": 3
   },
   "file_extension": ".py",
   "mimetype": "text/x-python",
   "name": "python",
   "nbconvert_exporter": "python",
   "pygments_lexer": "ipython3",
   "version": "3.9.6"
  }
 },
 "nbformat": 4,
 "nbformat_minor": 5
}
