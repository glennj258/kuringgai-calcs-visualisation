{
 "cells": [
  {
   "cell_type": "code",
   "execution_count": 1,
   "id": "65603b48",
   "metadata": {},
   "outputs": [],
   "source": [
    "import pandas as pd\n",
    "import json\n",
    "import csv\n",
    "import geopandas as gpd"
   ]
  },
  {
   "cell_type": "code",
   "execution_count": 2,
   "id": "b9597b50",
   "metadata": {},
   "outputs": [],
   "source": [
    "path = '/Users/glennjames/Library/Mobile Documents/com~apple~CloudDocs/University/USyd/PLAN9071/Python/Data/MB_Data/Raw/'\n",
    "output_path = '/Users/glennjames/Library/Mobile Documents/com~apple~CloudDocs/University/USyd/PLAN9071/Python/Data/MB_Data/'"
   ]
  },
  {
   "cell_type": "code",
   "execution_count": 3,
   "id": "decaa413",
   "metadata": {},
   "outputs": [],
   "source": [
    "# mb21_gdf = gpd.read_file(path + \"MB_2021_AUST_GDA2020.json\")"
   ]
  },
  {
   "cell_type": "code",
   "execution_count": 4,
   "id": "bae80295",
   "metadata": {},
   "outputs": [],
   "source": [
    "gdf = gpd.read_file(path + \"MB_2016_NSW.json\")"
   ]
  },
  {
   "cell_type": "markdown",
   "id": "955a8ebb",
   "metadata": {},
   "source": [
    "##### Plan:\n",
    "- Filter 2021 mesh blocks to NSW\n",
    "- Convert 2021 mesh blocks into points\n",
    "- Join these to the 2016 mesh blocks according to where they are spatially within them\n",
    "- Each 2016 mesh block should then have a dictionary of the corresponding 2021 mesh blocks"
   ]
  },
  {
   "cell_type": "code",
   "execution_count": 36,
   "id": "498660d1",
   "metadata": {},
   "outputs": [],
   "source": [
    "mb16_gdf = gdf\n",
    "# mb16_gdf['geometry'] = mb16_gdf['geometry'].centroid"
   ]
  },
  {
   "cell_type": "code",
   "execution_count": null,
   "id": "5d9b607a",
   "metadata": {},
   "outputs": [],
   "source": [
    "# fitler nsw\n",
    "mb21_nsw_gdf = mb21_gdf[mb21_gdf[\"STE_NAME21\"] == 'New South Wales']"
   ]
  },
  {
   "cell_type": "code",
   "execution_count": 23,
   "id": "a14a5239",
   "metadata": {},
   "outputs": [
    {
     "name": "stderr",
     "output_type": "stream",
     "text": [
      "/var/folders/p1/7llvcfs17mzb0d7gndybljth0000gn/T/ipykernel_70918/2352326737.py:3: UserWarning: Geometry is in a geographic CRS. Results from 'centroid' are likely incorrect. Use 'GeoSeries.to_crs()' to re-project geometries to a projected CRS before this operation.\n",
      "\n",
      "  mb21_nsw_points['geometry'] = mb21_nsw_gdf['geometry'].centroid\n",
      "/Users/glennjames/Library/Mobile Documents/com~apple~CloudDocs/University/USyd/PLAN9071/Python/.venv/lib/python3.9/site-packages/geopandas/geodataframe.py:1819: SettingWithCopyWarning: \n",
      "A value is trying to be set on a copy of a slice from a DataFrame.\n",
      "Try using .loc[row_indexer,col_indexer] = value instead\n",
      "\n",
      "See the caveats in the documentation: https://pandas.pydata.org/pandas-docs/stable/user_guide/indexing.html#returning-a-view-versus-a-copy\n",
      "  super().__setitem__(key, value)\n"
     ]
    }
   ],
   "source": [
    "# convert to points\n",
    "mb21_nsw_points = mb21_nsw_gdf\n",
    "mb21_nsw_points['geometry'] = mb21_nsw_gdf['geometry'].centroid"
   ]
  },
  {
   "cell_type": "code",
   "execution_count": null,
   "id": "5c00d5d5",
   "metadata": {},
   "outputs": [
    {
     "data": {
      "text/plain": [
       "True"
      ]
     },
     "execution_count": 27,
     "metadata": {},
     "output_type": "execute_result"
    }
   ],
   "source": [
    "## checking the coordinate systems, both are the same:\n",
    "mb16_gdf.crs == mb21_nsw_gdf.crs\n"
   ]
  },
  {
   "cell_type": "code",
   "execution_count": 39,
   "id": "9952ef06",
   "metadata": {},
   "outputs": [],
   "source": [
    "# use the within function\n",
    "mb16_21 = gpd.sjoin(mb21_nsw_points, mb16_gdf, predicate='within')"
   ]
  },
  {
   "cell_type": "code",
   "execution_count": 37,
   "id": "db7a37f2",
   "metadata": {},
   "outputs": [
    {
     "name": "stdout",
     "output_type": "stream",
     "text": [
      "[None 'Polygon']\n"
     ]
    }
   ],
   "source": [
    "print(mb16_gdf.geometry.type.unique())"
   ]
  },
  {
   "cell_type": "code",
   "execution_count": null,
   "id": "7cad641b",
   "metadata": {},
   "outputs": [
    {
     "data": {
      "text/plain": [
       "<Geographic 2D CRS: EPSG:4326>\n",
       "Name: WGS 84\n",
       "Axis Info [ellipsoidal]:\n",
       "- Lat[north]: Geodetic latitude (degree)\n",
       "- Lon[east]: Geodetic longitude (degree)\n",
       "Area of Use:\n",
       "- name: World.\n",
       "- bounds: (-180.0, -90.0, 180.0, 90.0)\n",
       "Datum: World Geodetic System 1984 ensemble\n",
       "- Ellipsoid: WGS 84\n",
       "- Prime Meridian: Greenwich"
      ]
     },
     "execution_count": 25,
     "metadata": {},
     "output_type": "execute_result"
    }
   ],
   "source": [
    "mb21_nsw_points.within(reference_polygon)"
   ]
  },
  {
   "cell_type": "code",
   "execution_count": 46,
   "id": "ec383f14",
   "metadata": {},
   "outputs": [
    {
     "data": {
      "text/plain": [
       "array(['Point'], dtype=object)"
      ]
     },
     "execution_count": 46,
     "metadata": {},
     "output_type": "execute_result"
    }
   ],
   "source": [
    "mb16_21.geometry.type.unique()"
   ]
  },
  {
   "cell_type": "code",
   "execution_count": 47,
   "id": "12d65252",
   "metadata": {},
   "outputs": [],
   "source": [
    "mb16_21_poly = gpd.sjoin(mb16_gdf, mb21_nsw_points, predicate='contains')"
   ]
  },
  {
   "cell_type": "code",
   "execution_count": 54,
   "id": "e42e6be4",
   "metadata": {},
   "outputs": [],
   "source": [
    "# mb16_21_dict = {}\n",
    "# for row, idx in mb16_21_poly[['MB_CODE16', 'MB_CODE21']].iterrows():\n",
    "#     mb16_21_dict[row['MB_CODE16']] = row['MB_CODE21']\n",
    "\n"
   ]
  },
  {
   "cell_type": "code",
   "execution_count": 57,
   "id": "07f5f9c3",
   "metadata": {},
   "outputs": [],
   "source": [
    "mb16_21_poly.to_file(output_path + \"MB16_21_NSW.geojson\", driver=\"GeoJSON\")"
   ]
  },
  {
   "cell_type": "code",
   "execution_count": 60,
   "id": "7fc96906",
   "metadata": {},
   "outputs": [],
   "source": [
    "mb16_21_mapping = dict(zip(mb16_21_poly['MB_CODE16'], mb16_21_poly['MB_CODE21']))"
   ]
  },
  {
   "cell_type": "code",
   "execution_count": null,
   "id": "75ae93a9",
   "metadata": {},
   "outputs": [],
   "source": []
  },
  {
   "cell_type": "code",
   "execution_count": null,
   "id": "8d88391c",
   "metadata": {},
   "outputs": [],
   "source": []
  }
 ],
 "metadata": {
  "kernelspec": {
   "display_name": ".venv",
   "language": "python",
   "name": "python3"
  },
  "language_info": {
   "codemirror_mode": {
    "name": "ipython",
    "version": 3
   },
   "file_extension": ".py",
   "mimetype": "text/x-python",
   "name": "python",
   "nbconvert_exporter": "python",
   "pygments_lexer": "ipython3",
   "version": "3.9.6"
  }
 },
 "nbformat": 4,
 "nbformat_minor": 5
}
